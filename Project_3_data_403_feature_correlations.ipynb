{
  "nbformat": 4,
  "nbformat_minor": 0,
  "metadata": {
    "colab": {
      "provenance": []
    },
    "kernelspec": {
      "name": "python3",
      "display_name": "Python 3"
    },
    "language_info": {
      "name": "python"
    }
  },
  "cells": [
    {
      "cell_type": "code",
      "execution_count": 18,
      "metadata": {
        "id": "IDOWWuH_5QAv"
      },
      "outputs": [],
      "source": [
        "import numpy as np\n",
        "import pandas as pd\n",
        "\n",
        "from sklearn.linear_model import LogisticRegression\n",
        "from sklearn.preprocessing import LabelEncoder"
      ]
    },
    {
      "cell_type": "markdown",
      "source": [
        "Predicted Names for the Test Sets"
      ],
      "metadata": {
        "id": "eXCRmAtB7VxJ"
      }
    },
    {
      "cell_type": "code",
      "source": [
        "y = [\"Kelly\", \"Kelly\",\"Kelly\",\"Alex\",\"Alex\",\"Kelly\",\"Alex\",\"Kelly\",\"Kelly\",\"Alex\",\"Alex\",\"Alex\",\"Kelly\",\"Kelly\",\"Alex\",\"Kelly\",\"Alex\",\"Alex\",\"Alex\",\"Kelly\",\n",
        "     \"Kelly\",\"Alex\",\"Alex\",\"Alex\",\"Kelly\",\"Alex\",\"Kelly\",\"Alex\",\"Alex\",\"Alex\",\"Alex\",\"Alex\",\"Kelly\",\"Kelly\",\"Alex\",\"Alex\",\"Kelly\",\"Kelly\",\"Alex\",\"Alex\",\"Alex\",\"Alex\",\"Alex\",\"Kelly\"]\n",
        "label_encoder = LabelEncoder()\n",
        "y_encoded = label_encoder.fit_transform(y)"
      ],
      "metadata": {
        "id": "WZ8JnQ8-50d6"
      },
      "execution_count": 24,
      "outputs": []
    },
    {
      "cell_type": "markdown",
      "source": [
        "Reading in Encoding"
      ],
      "metadata": {
        "id": "X5Pyu2dx7ZWs"
      }
    },
    {
      "cell_type": "code",
      "source": [
        "X = pd.read_csv('/content/drive/MyDrive/Data 402 P2/Features - Sheet1(1).csv')"
      ],
      "metadata": {
        "id": "SnITu0CL7eNY"
      },
      "execution_count": 22,
      "outputs": []
    },
    {
      "cell_type": "code",
      "source": [
        "X = X[X['Owner'] == \"Test\"]\n",
        "X = X.drop(columns=[\"Owner\", \"Picture Number\"])"
      ],
      "metadata": {
        "id": "ejMcBPSu9XIE"
      },
      "execution_count": 29,
      "outputs": []
    },
    {
      "cell_type": "code",
      "source": [
        "label_mapping = dict(zip(label_encoder.classes_, label_encoder.transform(label_encoder.classes_)))\n",
        "print(\"Label mapping:\", label_mapping)"
      ],
      "metadata": {
        "colab": {
          "base_uri": "https://localhost:8080/"
        },
        "id": "TE7SnNK3-Ro0",
        "outputId": "2426f351-61f6-4b3b-b122-bd76006a335e"
      },
      "execution_count": 33,
      "outputs": [
        {
          "output_type": "stream",
          "name": "stdout",
          "text": [
            "Label mapping: {'Alex': 0, 'Kelly': 1}\n"
          ]
        }
      ]
    },
    {
      "cell_type": "code",
      "source": [
        "model = LogisticRegression()\n",
        "model.fit(X, y_encoded)\n",
        "\n",
        "feature_names = X.columns.tolist()\n",
        "\n",
        "# Create Coefficient Table\n",
        "feature_names = feature_names\n",
        "coefficients = model.coef_[0]\n",
        "\n",
        "\n",
        "\n",
        "coef_table = pd.DataFrame({\n",
        "    \"Feature\": feature_names,\n",
        "    \"Coefficient\": coefficients,\n",
        "    \"Absolute Value\": np.abs(coefficients)\n",
        "}).sort_values(by=(\"Absolute Value\"), ascending=False).drop(columns=[\"Absolute Value\"])\n",
        "\n",
        "# Output the Table\n",
        "print(coef_table.to_string(index=False))"
      ],
      "metadata": {
        "id": "gbfEGnOt5X6v",
        "colab": {
          "base_uri": "https://localhost:8080/"
        },
        "outputId": "0f0d56bb-5def-4cc1-ab24-9ad931822300"
      },
      "execution_count": 36,
      "outputs": [
        {
          "output_type": "stream",
          "name": "stdout",
          "text": [
            "                   Feature  Coefficient\n",
            "                    People     0.543861\n",
            "              Rule of 3rds    -0.348813\n",
            "             Leading Lines    -0.309265\n",
            "                 Buildings    -0.301447\n",
            "                Board Game    -0.264215\n",
            "Portrait = 0 Landscape = 1    -0.257601\n",
            "            Flowers/plants    -0.241654\n",
            "                Landscape     -0.180404\n",
            "            Centered Image    -0.021909\n",
            "                    Selfie     0.000000\n"
          ]
        }
      ]
    }
  ]
}